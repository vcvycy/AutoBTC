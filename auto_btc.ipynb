{
 "cells": [
  {
   "cell_type": "code",
   "execution_count": 5,
   "metadata": {},
   "outputs": [],
   "source": [
    "%matplotlib inline\n"
   ]
  },
  {
   "cell_type": "code",
   "execution_count": 1,
   "metadata": {},
   "outputs": [],
   "source": [
    "# from huobi_api.huobi import *\n",
    "import sys\n",
    "from utils import *\n",
    "sys.path.append(\"./huobi_api\")\n",
    "from huobi.client.generic import *\n",
    "from huobi.client.market import *\n",
    "def test_generic_client():\n",
    "    generic_client = GenericClient()\n",
    "    ts = generic_client.get_exchange_timestamp()\n",
    "    print(ts)\n",
    "\n",
    "def test_market_client():  # Create the market client instance and get the latest btcusdt‘s candlestick\n",
    "    market_client = MarketClient()\n",
    "    list_obj = market_client.get_candlestick(\"btcusdt\", CandlestickInterval.MIN5, 20)\n",
    "    print(len(list_obj))\n",
    "    LogInfo.output_list(list_obj)\n",
    "    print(type(list_obj[0]))\n",
    "    for item in list_obj:\n",
    "        print(ts2str(item.id))"
   ]
  },
  {
   "cell_type": "code",
   "execution_count": 2,
   "metadata": {},
   "outputs": [],
   "source": [
    "market_client = MarketClient()\n",
    "list_obj = market_client.get_candlestick(\"btcusdt\", CandlestickInterval.MIN60, 2000)"
   ]
  },
  {
   "cell_type": "code",
   "execution_count": 11,
   "metadata": {},
   "outputs": [
    {
     "name": "stdout",
     "output_type": "stream",
     "text": [
      "Id : 1607065200\n",
      "High : 19333.0\n",
      "Low : 19237.61\n",
      "Open : 19313.99\n",
      "Close : 19272.56\n",
      "Count : 19107\n",
      "Amount : 1356.97599600653\n",
      "Volume : 26169265.31277259\n",
      "\n",
      "2.5\n"
     ]
    }
   ],
   "source": [
    "import numpy as np\n",
    "import matplotlib.pyplot as plt\n",
    "LogInfo.output_list(list_obj[:1])\n",
    "print(np.mean([1,2,3,4]))"
   ]
  },
  {
   "cell_type": "code",
   "execution_count": 15,
   "metadata": {},
   "outputs": [],
   "source": [
    "def draw(x, y, title = None, show = True ):\n",
    "    plt.grid(c='g', linestyle='-.', axis= 'y')\n",
    "    if title:\n",
    "        plt.title(title)\n",
    "    y2 = [a+1 for a in y]\n",
    "    plt.plot(x, y, c='r')\n",
    "    if show:\n",
    "        plt.show()\n",
    "    return "
   ]
  },
  {
   "cell_type": "code",
   "execution_count": 34,
   "metadata": {},
   "outputs": [],
   "source": [
    "import numpy as np\n",
    "class Candles:\n",
    "    def __init__(self, list_obj, name = \"\"):\n",
    "        self.raw_data = list_obj\n",
    "        self.name = name\n",
    "    def get_mean_gain(self, percent = False):\n",
    "        \"\"\"\n",
    "          获取平均收益\n",
    "        \"\"\"\n",
    "        gains = [(c.close - c.open)/c.open for c in self.raw_data]\n",
    "        rst = np.reduce_mean(gains)\n",
    "        if percent :\n",
    "            rst = \"%.3f%%\" %(rst *100)\n",
    "        return rst\n",
    "    def draw_gains(self):\n",
    "        \"\"\"\n",
    "          将收益曲线画出来\n",
    "        \"\"\"\n",
    "        gains = [(c.close - c.open)/c.open for c in self.raw_data]\n",
    "        draw([i for i in range(len(gains))], gains, self.name)\n",
    "        return "
   ]
  },
  {
   "cell_type": "code",
   "execution_count": 35,
   "metadata": {},
   "outputs": [
    {
     "name": "stdout",
     "output_type": "stream",
     "text": [
      "[step] 0/24\n"
     ]
    },
    {
     "ename": "AttributeError",
     "evalue": "module 'numpy' has no attribute 'reduce_mean'",
     "output_type": "error",
     "traceback": [
      "\u001b[0;31m---------------------------------------------------------------------------\u001b[0m",
      "\u001b[0;31mAttributeError\u001b[0m                            Traceback (most recent call last)",
      "\u001b[0;32m<ipython-input-35-0e440e118e45>\u001b[0m in \u001b[0;36m<module>\u001b[0;34m\u001b[0m\n\u001b[1;32m     22\u001b[0m         \u001b[0;32mreturn\u001b[0m\u001b[0;34m\u001b[0m\u001b[0;34m\u001b[0m\u001b[0m\n\u001b[1;32m     23\u001b[0m \u001b[0;34m\u001b[0m\u001b[0m\n\u001b[0;32m---> 24\u001b[0;31m \u001b[0mStat\u001b[0m\u001b[0;34m.\u001b[0m\u001b[0mcounter\u001b[0m\u001b[0;34m(\u001b[0m\u001b[0mlist_obj\u001b[0m\u001b[0;34m,\u001b[0m \u001b[0;36m24\u001b[0m\u001b[0;34m)\u001b[0m\u001b[0;34m\u001b[0m\u001b[0;34m\u001b[0m\u001b[0m\n\u001b[0m",
      "\u001b[0;32m<ipython-input-35-0e440e118e45>\u001b[0m in \u001b[0;36mcounter\u001b[0;34m(candle_list, step)\u001b[0m\n\u001b[1;32m     19\u001b[0m             \u001b[0mcandles\u001b[0m \u001b[0;34m=\u001b[0m \u001b[0mCandles\u001b[0m\u001b[0;34m(\u001b[0m\u001b[0msub_candles\u001b[0m\u001b[0;34m,\u001b[0m \u001b[0;34m\"Step%s/%s\"\u001b[0m \u001b[0;34m%\u001b[0m\u001b[0;34m(\u001b[0m\u001b[0mi\u001b[0m\u001b[0;34m,\u001b[0m \u001b[0mstep\u001b[0m\u001b[0;34m)\u001b[0m\u001b[0;34m)\u001b[0m\u001b[0;34m\u001b[0m\u001b[0;34m\u001b[0m\u001b[0m\n\u001b[1;32m     20\u001b[0m \u001b[0;34m\u001b[0m\u001b[0m\n\u001b[0;32m---> 21\u001b[0;31m             \u001b[0mprint\u001b[0m\u001b[0;34m(\u001b[0m\u001b[0;34m\"%s/%s mean= %s\"\u001b[0m \u001b[0;34m%\u001b[0m\u001b[0;34m(\u001b[0m\u001b[0mi\u001b[0m\u001b[0;34m,\u001b[0m \u001b[0mstep\u001b[0m\u001b[0;34m,\u001b[0m \u001b[0mcandles\u001b[0m\u001b[0;34m.\u001b[0m\u001b[0mget_mean_gain\u001b[0m\u001b[0;34m(\u001b[0m\u001b[0mpercent\u001b[0m \u001b[0;34m=\u001b[0m \u001b[0;32mTrue\u001b[0m\u001b[0;34m)\u001b[0m\u001b[0;34m)\u001b[0m\u001b[0;34m)\u001b[0m\u001b[0;34m\u001b[0m\u001b[0;34m\u001b[0m\u001b[0m\n\u001b[0m\u001b[1;32m     22\u001b[0m         \u001b[0;32mreturn\u001b[0m\u001b[0;34m\u001b[0m\u001b[0;34m\u001b[0m\u001b[0m\n\u001b[1;32m     23\u001b[0m \u001b[0;34m\u001b[0m\u001b[0m\n",
      "\u001b[0;32m<ipython-input-34-7c759d62267c>\u001b[0m in \u001b[0;36mget_mean_gain\u001b[0;34m(self, percent)\u001b[0m\n\u001b[1;32m      9\u001b[0m         \"\"\"\n\u001b[1;32m     10\u001b[0m         \u001b[0mgains\u001b[0m \u001b[0;34m=\u001b[0m \u001b[0;34m[\u001b[0m\u001b[0;34m(\u001b[0m\u001b[0mc\u001b[0m\u001b[0;34m.\u001b[0m\u001b[0mclose\u001b[0m \u001b[0;34m-\u001b[0m \u001b[0mc\u001b[0m\u001b[0;34m.\u001b[0m\u001b[0mopen\u001b[0m\u001b[0;34m)\u001b[0m\u001b[0;34m/\u001b[0m\u001b[0mc\u001b[0m\u001b[0;34m.\u001b[0m\u001b[0mopen\u001b[0m \u001b[0;32mfor\u001b[0m \u001b[0mc\u001b[0m \u001b[0;32min\u001b[0m \u001b[0mself\u001b[0m\u001b[0;34m.\u001b[0m\u001b[0mraw_data\u001b[0m\u001b[0;34m]\u001b[0m\u001b[0;34m\u001b[0m\u001b[0;34m\u001b[0m\u001b[0m\n\u001b[0;32m---> 11\u001b[0;31m         \u001b[0mrst\u001b[0m \u001b[0;34m=\u001b[0m \u001b[0mnp\u001b[0m\u001b[0;34m.\u001b[0m\u001b[0mreduce_mean\u001b[0m\u001b[0;34m(\u001b[0m\u001b[0mgains\u001b[0m\u001b[0;34m)\u001b[0m\u001b[0;34m\u001b[0m\u001b[0;34m\u001b[0m\u001b[0m\n\u001b[0m\u001b[1;32m     12\u001b[0m         \u001b[0;32mif\u001b[0m \u001b[0mpercent\u001b[0m \u001b[0;34m:\u001b[0m\u001b[0;34m\u001b[0m\u001b[0;34m\u001b[0m\u001b[0m\n\u001b[1;32m     13\u001b[0m             \u001b[0mrst\u001b[0m \u001b[0;34m=\u001b[0m \u001b[0;34m\"%.3f%%\"\u001b[0m \u001b[0;34m%\u001b[0m\u001b[0;34m(\u001b[0m\u001b[0mrst\u001b[0m \u001b[0;34m*\u001b[0m\u001b[0;36m100\u001b[0m\u001b[0;34m)\u001b[0m\u001b[0;34m\u001b[0m\u001b[0;34m\u001b[0m\u001b[0m\n",
      "\u001b[0;32m/usr/local/lib/python3.8/dist-packages/numpy/__init__.py\u001b[0m in \u001b[0;36m__getattr__\u001b[0;34m(attr)\u001b[0m\n\u001b[1;32m    212\u001b[0m                 \u001b[0;32mreturn\u001b[0m \u001b[0mTester\u001b[0m\u001b[0;34m\u001b[0m\u001b[0;34m\u001b[0m\u001b[0m\n\u001b[1;32m    213\u001b[0m             \u001b[0;32melse\u001b[0m\u001b[0;34m:\u001b[0m\u001b[0;34m\u001b[0m\u001b[0;34m\u001b[0m\u001b[0m\n\u001b[0;32m--> 214\u001b[0;31m                 raise AttributeError(\"module {!r} has no attribute \"\n\u001b[0m\u001b[1;32m    215\u001b[0m                                      \"{!r}\".format(__name__, attr))\n\u001b[1;32m    216\u001b[0m \u001b[0;34m\u001b[0m\u001b[0m\n",
      "\u001b[0;31mAttributeError\u001b[0m: module 'numpy' has no attribute 'reduce_mean'"
     ]
    }
   ],
   "source": [
    "\n",
    "class Stat:\n",
    "    @staticmethod\n",
    "    def show_candels(candles):\n",
    "        gains = [(c.close - c.open)/c.open for c in candles]\n",
    "        return gains\n",
    "    \n",
    "    @staticmethod\n",
    "    def counter(candle_list, step):\n",
    "        \"\"\"\n",
    "          每相隔step分成一组，计算涨跌\n",
    "        \"\"\"\n",
    "        mean_gains = []  # 每一组的收益\n",
    "        for i in range(step):\n",
    "            print(\"[step] %s/%s\" %(i, step))\n",
    "            sub_candles = []\n",
    "            for j in range(i, len(candle_list), step):\n",
    "                sub_candles.append(candle_list[j])\n",
    "            \n",
    "            candles = Candles(sub_candles, \"Step%s/%s\" %(i, step)) \n",
    "            \n",
    "            print(\"%s/%s mean= %s\" %(i, step, candles.get_mean_gain(percent = True)))\n",
    "        return\n",
    "\n",
    "Stat.counter(list_obj, 24)"
   ]
  },
  {
   "cell_type": "code",
   "execution_count": 32,
   "metadata": {},
   "outputs": [
    {
     "ename": "AttributeError",
     "evalue": "module 'numpy' has no attribute 'reduce_mean'",
     "output_type": "error",
     "traceback": [
      "\u001b[0;31m---------------------------------------------------------------------------\u001b[0m",
      "\u001b[0;31mAttributeError\u001b[0m                            Traceback (most recent call last)",
      "\u001b[0;32m<ipython-input-32-8f3d0f9b3864>\u001b[0m in \u001b[0;36m<module>\u001b[0;34m\u001b[0m\n\u001b[0;32m----> 1\u001b[0;31m \u001b[0mnp\u001b[0m\u001b[0;34m.\u001b[0m\u001b[0mreduce_mean\u001b[0m\u001b[0;34m(\u001b[0m\u001b[0;34m[\u001b[0m\u001b[0;36m1\u001b[0m\u001b[0;34m,\u001b[0m\u001b[0;36m2\u001b[0m\u001b[0;34m,\u001b[0m\u001b[0;36m3\u001b[0m\u001b[0;34m]\u001b[0m\u001b[0;34m)\u001b[0m\u001b[0;34m\u001b[0m\u001b[0;34m\u001b[0m\u001b[0m\n\u001b[0m",
      "\u001b[0;32m/usr/local/lib/python3.8/dist-packages/numpy/__init__.py\u001b[0m in \u001b[0;36m__getattr__\u001b[0;34m(attr)\u001b[0m\n\u001b[1;32m    212\u001b[0m                 \u001b[0;32mreturn\u001b[0m \u001b[0mTester\u001b[0m\u001b[0;34m\u001b[0m\u001b[0;34m\u001b[0m\u001b[0m\n\u001b[1;32m    213\u001b[0m             \u001b[0;32melse\u001b[0m\u001b[0;34m:\u001b[0m\u001b[0;34m\u001b[0m\u001b[0;34m\u001b[0m\u001b[0m\n\u001b[0;32m--> 214\u001b[0;31m                 raise AttributeError(\"module {!r} has no attribute \"\n\u001b[0m\u001b[1;32m    215\u001b[0m                                      \"{!r}\".format(__name__, attr))\n\u001b[1;32m    216\u001b[0m \u001b[0;34m\u001b[0m\u001b[0m\n",
      "\u001b[0;31mAttributeError\u001b[0m: module 'numpy' has no attribute 'reduce_mean'"
     ]
    }
   ],
   "source": [
    "np.reduce_mean([1,2,3])"
   ]
  },
  {
   "cell_type": "code",
   "execution_count": null,
   "metadata": {},
   "outputs": [],
   "source": []
  }
 ],
 "metadata": {
  "kernelspec": {
   "display_name": "Python 3",
   "language": "python",
   "name": "python3"
  },
  "language_info": {
   "codemirror_mode": {
    "name": "ipython",
    "version": 3
   },
   "file_extension": ".py",
   "mimetype": "text/x-python",
   "name": "python",
   "nbconvert_exporter": "python",
   "pygments_lexer": "ipython3",
   "version": "3.8.6"
  }
 },
 "nbformat": 4,
 "nbformat_minor": 4
}
